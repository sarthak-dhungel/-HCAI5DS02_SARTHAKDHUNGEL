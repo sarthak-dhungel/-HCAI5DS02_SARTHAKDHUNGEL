{
  "nbformat": 4,
  "nbformat_minor": 0,
  "metadata": {
    "colab": {
      "provenance": []
    },
    "kernelspec": {
      "name": "python3",
      "display_name": "Python 3"
    },
    "language_info": {
      "name": "python"
    }
  },
  "cells": [
    {
      "cell_type": "code",
      "source": [
        "from math import sqrt\n",
        "from dataclasses import dataclass\n",
        "import numpy as np\n",
        "from scipy import stats\n",
        "\n",
        "@dataclass\n",
        "class CIResult:\n",
        "    ci_low: float\n",
        "    ci_high: float\n",
        "    estimate: float\n",
        "    se: float\n",
        "    crit: float\n",
        "    decision: str\n",
        "    note: str = \"\"\n",
        "\n",
        "@dataclass\n",
        "class TestResult:\n",
        "    stat: float\n",
        "    crit: float | tuple\n",
        "    p: float\n",
        "    reject: bool\n",
        "    df: float | None = None\n",
        "    note: str = \"\"\n"
      ],
      "metadata": {
        "id": "kWro-I6Dhxqf"
      },
      "execution_count": 97,
      "outputs": []
    },
    {
      "cell_type": "code",
      "source": [
        "# CI helper functions\n",
        "\n",
        "def ci_two_sided_mean_t(xbar, s, n, alpha=0.05):\n",
        "    \"\"\"Two-sided CI for mean, sigma unknown (t).\"\"\"\n",
        "    se = s / sqrt(n)\n",
        "    df = n - 1\n",
        "    tcrit = stats.t.ppf(1 - alpha/2, df)\n",
        "    me = tcrit * se\n",
        "    return CIResult(\n",
        "        ci_low=xbar - me, ci_high=xbar + me, estimate=xbar, se=se, crit=tcrit,\n",
        "        decision=\"Reject H0 if μ0 outside CI; else Fail to reject.\",\n",
        "        note=f\"df={df}, ME={me:.4f}\"\n",
        "    )\n",
        "\n",
        "def one_sided_bound_mean_t(xbar, s, n, alpha=0.05, side=\"upper\"):\n",
        "    \"\"\"\n",
        "    One-sided bound for mean (t).\n",
        "    side='upper' => upper bound = xbar + t_(1-alpha,df)*SE   [left-tail test]\n",
        "    side='lower' => lower bound = xbar - t_(1-alpha,df)*SE   [right-tail test]\n",
        "    \"\"\"\n",
        "    se = s / sqrt(n)\n",
        "    df = n - 1\n",
        "    tcrit = stats.t.ppf(1 - alpha, df)\n",
        "    if side == \"upper\":\n",
        "        bound = xbar + tcrit * se\n",
        "        return CIResult(float(\"-inf\"), bound, xbar, se, tcrit, \"Compare μ0 to upper bound\", f\"df={df}\")\n",
        "    else:\n",
        "        bound = xbar - tcrit * se\n",
        "        return CIResult(bound, float(\"inf\"), xbar, se, tcrit, \"Compare μ0 to lower bound\", f\"df={df}\")\n",
        "\n",
        "def ci_two_sided_prop(phat, n, alpha=0.05):\n",
        "    \"\"\"Two-sided CI for proportion (Wald).\"\"\"\n",
        "    se = sqrt(phat * (1 - phat) / n)\n",
        "    zcrit = stats.norm.ppf(1 - alpha/2)\n",
        "    me = zcrit * se\n",
        "    return CIResult(\n",
        "        ci_low=phat - me, ci_high=phat + me, estimate=phat, se=se, crit=zcrit,\n",
        "        decision=\"CI for true p\", note=f\"ME={me:.5f}\"\n",
        "    )\n"
      ],
      "metadata": {
        "id": "ftdr8XpTh3O6"
      },
      "execution_count": 98,
      "outputs": []
    },
    {
      "cell_type": "code",
      "source": [
        "# Critical/p-value approach helpers\n",
        "\n",
        "def t_test_one_mean(xbar, mu0, s, n, alpha=0.05, tails=\"two-sided\"):\n",
        "    se = s / sqrt(n)\n",
        "    df = n - 1\n",
        "    t = (xbar - mu0) / se\n",
        "    if tails == \"two-sided\":\n",
        "        p = 2 * (1 - stats.t.cdf(abs(t), df))\n",
        "        crit = stats.t.ppf(1 - alpha/2, df)\n",
        "        reject = abs(t) > crit\n",
        "    elif tails == \"right\":\n",
        "        p = 1 - stats.t.cdf(t, df)\n",
        "        crit = stats.t.ppf(1 - alpha, df)\n",
        "        reject = t > crit\n",
        "    else:\n",
        "        p = stats.t.cdf(t, df)\n",
        "        crit = stats.t.ppf(alpha, df)\n",
        "        reject = t < crit\n",
        "    return TestResult(stat=t, crit=crit, p=p, reject=reject, df=df)\n",
        "\n",
        "def z_test_one_prop(x, n, p0, alpha=0.05, tails=\"two-sided\"):\n",
        "    phat = x / n\n",
        "    se0 = sqrt(p0 * (1 - p0) / n)\n",
        "    z = (phat - p0) / se0\n",
        "    if tails == \"two-sided\":\n",
        "        p = 2 * (1 - stats.norm.cdf(abs(z)))\n",
        "        crit = stats.norm.ppf(1 - alpha/2)\n",
        "        reject = abs(z) > crit\n",
        "    elif tails == \"right\":\n",
        "        p = 1 - stats.norm.cdf(z)\n",
        "        crit = stats.norm.ppf(1 - alpha)\n",
        "        reject = z > crit\n",
        "    else:\n",
        "        p = stats.norm.cdf(z)\n",
        "        crit = stats.norm.ppf(alpha)\n",
        "        reject = z < crit\n",
        "    return TestResult(stat=z, crit=crit, p=p, reject=reject, df=None)\n"
      ],
      "metadata": {
        "id": "yxgMvTgqh9oD"
      },
      "execution_count": 99,
      "outputs": []
    },
    {
      "cell_type": "code",
      "source": [
        "# ANOVA (summary) & Chi-square GOF\n",
        "\n",
        "def anova_from_summary(groups):\n",
        "    \"\"\"\n",
        "    groups: list of (n_i, mean_i, s_i)\n",
        "    \"\"\"\n",
        "    N = sum(n for n, _, _ in groups)\n",
        "    k = len(groups)\n",
        "    grand_mean = sum(n * m for n, m, _ in groups) / N\n",
        "    SSB = sum(n * (m - grand_mean) ** 2 for n, m, _ in groups)\n",
        "    SSW = sum((n - 1) * (s ** 2) for n, _, s in groups)\n",
        "    dfb, dfw = k - 1, N - k\n",
        "    MSB, MSW = SSB / dfb, SSW / dfw\n",
        "    F = MSB / MSW\n",
        "    p = stats.f.sf(F, dfb, dfw)\n",
        "    return {\"F\": F, \"p\": p, \"df_between\": dfb, \"df_within\": dfw, \"MSB\": MSB, \"MSW\": MSW,\n",
        "            \"grand_mean\": grand_mean, \"SSB\": SSB, \"SSW\": SSW}\n",
        "\n",
        "def chisq_gof(observed, expected_probs):\n",
        "    N = sum(observed)\n",
        "    expected = np.array(expected_probs) * N\n",
        "    chi2 = ((np.array(observed) - expected) ** 2 / expected).sum()\n",
        "    df = len(observed) - 1\n",
        "    p = stats.chi2.sf(chi2, df)\n",
        "    return {\"chi2\": chi2, \"df\": df, \"p\": p, \"expected\": expected}\n"
      ],
      "metadata": {
        "id": "KV1kBI2diA1R"
      },
      "execution_count": 100,
      "outputs": []
    },
    {
      "cell_type": "code",
      "source": [
        "# CI(1) Email Campaign\n",
        "n, xbar, s, mu0, alpha = 40, 52, 12, 50, 0.05\n",
        "ci = ci_two_sided_mean_t(xbar, s, n, alpha)\n",
        "print(ci)\n",
        "print(\"Decision vs μ0=50:\", \"Fail to reject H0\" if (ci.ci_low <= mu0 <= ci.ci_high) else \"Reject H0\")\n",
        "print(\"Conclusion: Fail to reject H0. The new layout has no significant effect on average spend.\")\n",
        "\n"
      ],
      "metadata": {
        "colab": {
          "base_uri": "https://localhost:8080/"
        },
        "id": "2sTOVb5YiFE9",
        "outputId": "2cbeacd1-b732-4046-cf21-5d4c7e9398c9"
      },
      "execution_count": 101,
      "outputs": [
        {
          "output_type": "stream",
          "name": "stdout",
          "text": [
            "CIResult(ci_low=np.float64(48.1622138140854), ci_high=np.float64(55.8377861859146), estimate=52, se=1.8973665961010275, crit=np.float64(2.0226909200367604), decision='Reject H0 if μ0 outside CI; else Fail to reject.', note='df=39, ME=3.8378')\n",
            "Decision vs μ0=50: Fail to reject H0\n",
            "Conclusion: Fail to reject H0. The new layout has no significant effect on average spend.\n"
          ]
        }
      ]
    },
    {
      "cell_type": "code",
      "source": [
        "# Block 6: CI(2) Delivery Time (one-sided upper bound)\n",
        "n, xbar, s, mu0, alpha = 25, 3.8, 0.9, 4.0, 0.05\n",
        "upper = one_sided_bound_mean_t(xbar, s, n, alpha, side=\"upper\")\n",
        "print(upper)\n",
        "print(\"Decision (left-tail):\", \"Fail to reject H0\" if mu0 <= upper.ci_high else \"Reject H0\")\n",
        "print(\"Conclusion: Fail to reject H0. Insufficient evidence that mean delivery time is below 4 days.\")\n",
        "\n"
      ],
      "metadata": {
        "colab": {
          "base_uri": "https://localhost:8080/"
        },
        "id": "Z5r9UtJoiLtI",
        "outputId": "adaeea3a-ae20-4aab-83f9-a8165a110aef"
      },
      "execution_count": 102,
      "outputs": [
        {
          "output_type": "stream",
          "name": "stdout",
          "text": [
            "CIResult(ci_low=-inf, ci_high=np.float64(4.107958774383697), estimate=3.8, se=0.18, crit=np.float64(1.7108820799094275), decision='Compare μ0 to upper bound', note='df=24')\n",
            "Decision (left-tail): Fail to reject H0\n",
            "Conclusion: Fail to reject H0. Insufficient evidence that mean delivery time is below 4 days.\n"
          ]
        }
      ]
    },
    {
      "cell_type": "code",
      "source": [
        "# Block 7: CI(3) App feature adoption\n",
        "n, x = 500, 290\n",
        "phat = x / n\n",
        "ci_p = ci_two_sided_prop(phat, n, alpha=0.05)\n",
        "print(ci_p)\n",
        "print(\"Decision vs p0=0.60:\", \"Fail to reject H0\" if (ci_p.ci_low <= 0.60 <= ci_p.ci_high) else \"Reject H0\")\n",
        "print(\"Conclusion: Fail to reject H0. Adoption rate is not significantly different from 60%.\")\n",
        "\n"
      ],
      "metadata": {
        "colab": {
          "base_uri": "https://localhost:8080/"
        },
        "id": "fyw3ijpOiN4M",
        "outputId": "26516d07-bde0-43f9-e73f-77ea0466b373"
      },
      "execution_count": 103,
      "outputs": [
        {
          "output_type": "stream",
          "name": "stdout",
          "text": [
            "CIResult(ci_low=np.float64(0.5367384843372058), ci_high=np.float64(0.6232615156627941), estimate=0.58, se=0.02207260745811423, crit=np.float64(1.959963984540054), decision='CI for true p', note='ME=0.04326')\n",
            "Decision vs p0=0.60: Fail to reject H0\n",
            "Conclusion: Fail to reject H0. Adoption rate is not significantly different from 60%.\n"
          ]
        }
      ]
    },
    {
      "cell_type": "code",
      "source": [
        "# Block 8: CI(4) Customer Satisfaction (lower bound for right-tail)\n",
        "n, xbar, s, mu0, alpha = 100, 4.20, 0.80, 4.00, 0.01\n",
        "df = n - 1\n",
        "tcrit = stats.t.ppf(1 - alpha, df)\n",
        "se = s / sqrt(n)\n",
        "lower_bound = xbar - tcrit * se\n",
        "print({\"lower_bound\": round(lower_bound, 3), \"se\": round(se, 3), \"tcrit\": round(tcrit, 3), \"df\": df})\n",
        "print(\"Decision:\", \"Reject H0\" if mu0 < lower_bound else \"Fail to reject H0\")\n",
        "print(\"Conclusion: Reject H0. Mean satisfaction rating is significantly greater than 4.0.\")\n",
        "\n"
      ],
      "metadata": {
        "colab": {
          "base_uri": "https://localhost:8080/"
        },
        "id": "dFv1ldmciRXO",
        "outputId": "25c297f5-2ed5-4e36-8a64-ac9b21954b0f"
      },
      "execution_count": 104,
      "outputs": [
        {
          "output_type": "stream",
          "name": "stdout",
          "text": [
            "{'lower_bound': np.float64(4.011), 'se': 0.08, 'tcrit': np.float64(2.365), 'df': 99}\n",
            "Decision: Reject H0\n",
            "Conclusion: Reject H0. Mean satisfaction rating is significantly greater than 4.0.\n"
          ]
        }
      ]
    },
    {
      "cell_type": "code",
      "source": [
        "# Block 9: CI(5) NFL Linebackers\n",
        "n, xbar, s, mu0, alpha = 6, 239.3, 10.9, 230.0, 0.05\n",
        "ci_lb = ci_two_sided_mean_t(xbar, s, n, alpha)\n",
        "print(ci_lb)\n",
        "print(\"Decision:\", \"Fail to reject H0\" if (ci_lb.ci_low <= mu0 <= ci_lb.ci_high) else \"Reject H0\")\n",
        "print(\"Conclusion: Fail to reject H0. No evidence that the mean weight differs from 230 lb.\")\n",
        "\n"
      ],
      "metadata": {
        "colab": {
          "base_uri": "https://localhost:8080/"
        },
        "id": "kS1Na6-siSjJ",
        "outputId": "9ebf85f2-64a3-41c7-9122-60891132d517"
      },
      "execution_count": 105,
      "outputs": [
        {
          "output_type": "stream",
          "name": "stdout",
          "text": [
            "CIResult(ci_low=np.float64(227.86115152513378), ci_high=np.float64(250.73884847486624), estimate=239.3, se=4.449906366056108, crit=np.float64(2.570581835636314), decision='Reject H0 if μ0 outside CI; else Fail to reject.', note='df=5, ME=11.4388')\n",
            "Decision: Fail to reject H0\n",
            "Conclusion: Fail to reject H0. No evidence that the mean weight differs from 230 lb.\n"
          ]
        }
      ]
    },
    {
      "cell_type": "code",
      "source": [
        "# Block 10: A) Retail Price (two-tailed t)\n",
        "n, xbar, s, mu0, alpha = 12, 79.8, 9.6, 75.0, 0.05\n",
        "res = t_test_one_mean(xbar, mu0, s, n, alpha, tails=\"two-sided\")\n",
        "print(res)\n",
        "print(\"Conclusion:\", \"Reject H0\" if res.reject else \"Fail to reject H0, Mean basket value is not significantly different from $75.\")\n",
        "\n",
        "\n"
      ],
      "metadata": {
        "colab": {
          "base_uri": "https://localhost:8080/"
        },
        "id": "si-1i00gibSo",
        "outputId": "e36b4317-7eac-4cd5-add1-54d1078f87e9"
      },
      "execution_count": 106,
      "outputs": [
        {
          "output_type": "stream",
          "name": "stdout",
          "text": [
            "TestResult(stat=1.7320508075688763, crit=np.float64(2.200985160082949), p=np.float64(0.11117295276905725), reject=np.False_, df=11, note='')\n",
            "Conclusion: Fail to reject H0, Mean basket value is not significantly different from $75.\n"
          ]
        }
      ]
    },
    {
      "cell_type": "code",
      "source": [
        "# Block 11: B) Call-center Wait (right-tailed t)\n",
        "n, xbar, s, mu0, alpha = 16, 2.8, 0.9, 2.5, 0.10\n",
        "res = t_test_one_mean(xbar, mu0, s, n, alpha, tails=\"right\")\n",
        "print(res)\n",
        "print(\"Conclusion:\", \"Reject H0\" if res.reject else \"Fail to reject H0 , No strong evidence that average wait exceeds 2.5 minutes.\")\n"
      ],
      "metadata": {
        "colab": {
          "base_uri": "https://localhost:8080/"
        },
        "id": "TANhND8aidBI",
        "outputId": "dc688f4b-f476-4066-e45e-1ea25b452bdc"
      },
      "execution_count": 107,
      "outputs": [
        {
          "output_type": "stream",
          "name": "stdout",
          "text": [
            "TestResult(stat=1.3333333333333326, crit=np.float64(1.3406056078504547), p=np.float64(0.10115929173681915), reject=np.False_, df=15, note='')\n",
            "Conclusion: Fail to reject H0 , No strong evidence that average wait exceeds 2.5 minutes.\n"
          ]
        }
      ]
    },
    {
      "cell_type": "code",
      "source": [
        "# Block 12: C) Email CTR (two-tailed z-test for p)\n",
        "n, x, p0, alpha = 900, 78, 0.08, 0.05\n",
        "res = z_test_one_prop(x, n, p0, alpha, tails=\"two-sided\")\n",
        "print(res)\n",
        "print(\"Conclusion:\", \"Reject H0\" if res.reject else \"Fail to reject H0, Click-through rate is not significantly different from 8%\")\n"
      ],
      "metadata": {
        "colab": {
          "base_uri": "https://localhost:8080/"
        },
        "id": "ws3xR-RAifPk",
        "outputId": "57630836-73f9-4bde-a99c-084ff5f93b23"
      },
      "execution_count": 108,
      "outputs": [
        {
          "output_type": "stream",
          "name": "stdout",
          "text": [
            "TestResult(stat=0.7372097807744858, crit=np.float64(1.959963984540054), p=np.float64(0.4609947864255779), reject=np.False_, df=None, note='')\n",
            "Conclusion: Fail to reject H0, Click-through rate is not significantly different from 8%\n"
          ]
        }
      ]
    },
    {
      "cell_type": "code",
      "source": [
        "# Block 13: D) Delivery Reliability (two-tailed z-test at 1%)\n",
        "n, x, p0, alpha = 1200, 1100, 0.95, 0.01\n",
        "res = z_test_one_prop(x, n, p0, alpha, tails=\"two-sided\")\n",
        "print(res)\n",
        "print(\"Conclusion:\", \"Reject H0 , On-time delivery rate is significantly lower than 95%.\" if res.reject else \"Fail to reject H0\")\n"
      ],
      "metadata": {
        "colab": {
          "base_uri": "https://localhost:8080/"
        },
        "id": "BtuwNKkHihbX",
        "outputId": "d29d772b-0927-4636-8ce1-e2e67d51bf9d"
      },
      "execution_count": 109,
      "outputs": [
        {
          "output_type": "stream",
          "name": "stdout",
          "text": [
            "TestResult(stat=-5.298129428260172, crit=np.float64(2.5758293035489004), p=np.float64(1.1699502810991191e-07), reject=np.True_, df=None, note='')\n",
            "Conclusion: Reject H0 , On-time delivery rate is significantly lower than 95%.\n"
          ]
        }
      ]
    },
    {
      "cell_type": "code",
      "source": [
        "# Block 14: Regional Sales ANOVA\n",
        "north = np.array([82.50, 85.30, 79.80, 83.10, 81.40])\n",
        "south = np.array([76.80, 74.20, 78.50, 75.90, 77.30])\n",
        "west  = np.array([88.10, 90.50, 85.70, 92.30, 87.60])\n",
        "\n",
        "groups = [north, south, west]\n",
        "F, p = stats.f_oneway(*groups)\n",
        "print(\"F =\", F, \"p =\", p)\n",
        "print(\"Decision @0.01:\", \"Reject H0\" if p < 0.01 else \"Fail to reject H0 \")\n",
        "\n"
      ],
      "metadata": {
        "colab": {
          "base_uri": "https://localhost:8080/"
        },
        "id": "fcaZ1AzGik3s",
        "outputId": "8518f859-6e11-4dfc-c0e5-10c6ee512eaf"
      },
      "execution_count": 110,
      "outputs": [
        {
          "output_type": "stream",
          "name": "stdout",
          "text": [
            "F = 42.27747989276148 p = 3.6850208754849267e-06\n",
            "Decision @0.01: Reject H0\n"
          ]
        }
      ]
    },
    {
      "cell_type": "code",
      "source": [
        "# Block 15: Regional Sales summaries + ANOVA\n",
        "north = np.array([82.50, 85.30, 79.80, 83.10, 81.40])\n",
        "south = np.array([76.80, 74.20, 78.50, 75.90, 77.30])\n",
        "west  = np.array([88.10, 90.50, 85.70, 92.30, 87.60])\n",
        "\n",
        "ns = (15, 12, 18)  # stated sample sizes\n",
        "means = [north.mean(), south.mean(), west.mean()]\n",
        "stds  = [north.std(ddof=1), south.std(ddof=1), west.std(ddof=1)]\n",
        "\n",
        "print(\"Summaries:\")\n",
        "for region, n_i, m, s_i in zip([\"North\", \"South\", \"West\"], ns, means, stds):\n",
        "    print(f\"{region}: n={n_i}, mean={m:.2f}, std={s_i:.2f}\")\n",
        "\n",
        "groups_regions = [(ns[i], means[i], stds[i]) for i in range(3)]\n",
        "a2 = anova_from_summary(groups_regions)\n",
        "print(\"\\nANOVA:\", a2)\n",
        "print(\"Decision @0.01:\", \"Reject H0 (≥1 region differs)\" if a2[\"p\"] < 0.01 else \"Fail to reject H0\")\n"
      ],
      "metadata": {
        "colab": {
          "base_uri": "https://localhost:8080/"
        },
        "id": "BHFOh_I4imxJ",
        "outputId": "f4571c83-0173-4b35-b5a5-ba0ab6edf812"
      },
      "execution_count": 111,
      "outputs": [
        {
          "output_type": "stream",
          "name": "stdout",
          "text": [
            "Summaries:\n",
            "North: n=15, mean=82.42, std=2.04\n",
            "South: n=12, mean=76.54, std=1.61\n",
            "West: n=18, mean=88.84, std=2.58\n",
            "\n",
            "ANOVA: {'F': np.float64(116.61121682974006), 'p': np.float64(7.159367431778904e-18), 'df_between': 2, 'df_within': 42, 'MSB': np.float64(555.8940000000009), 'MSW': np.float64(4.767071428571423), 'grand_mean': np.float64(83.41999999999999), 'SSB': np.float64(1111.7880000000018), 'SSW': np.float64(200.21699999999979)}\n",
            "Decision @0.01: Reject H0 (≥1 region differs)\n"
          ]
        }
      ]
    },
    {
      "cell_type": "code",
      "source": [
        "# Block 16: Channel Mix Chi-square\n",
        "observed = np.array([275, 185, 40])\n",
        "expected = np.array([300, 150, 50])\n",
        "\n",
        "chi2 = ((observed - expected)**2 / expected).sum()\n",
        "df = len(observed) - 1\n",
        "p = stats.chi2.sf(chi2, df)\n",
        "\n",
        "print(\"Chi-square =\", chi2, \"df =\", df, \"p =\", p)\n",
        "print(\"Decision @0.05:\", \"Reject H0\" if p < 0.05 else \"Fail to reject H0, Sales channel mix has changed significantly from the expected 60–30–10%\")\n",
        "\n"
      ],
      "metadata": {
        "colab": {
          "base_uri": "https://localhost:8080/"
        },
        "id": "HbN_GJluiqsu",
        "outputId": "7118fb73-64de-41d8-c84f-ea86886073ed"
      },
      "execution_count": 112,
      "outputs": [
        {
          "output_type": "stream",
          "name": "stdout",
          "text": [
            "Chi-square = 12.25 df = 2 p = 0.002187491118182885\n",
            "Decision @0.05: Reject H0\n"
          ]
        }
      ]
    }
  ]
}